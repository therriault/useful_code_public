{
 "cells": [
  {
   "cell_type": "markdown",
   "id": "a545906b",
   "metadata": {},
   "source": [
    "# Extracting Contacts from Google Calendar Export\n",
    "\n",
    "*Created by Andrew Therriault, February 4, 2023*\n",
    "\n",
    "This script takes an export of meetings from Google Calendar, extracts all the meeting participants with email addresses, deduplicates them, and saves them to a CSV. I'm using this to help create a \"friends and mentors\" list for our company (since almost all of the people I'd want on that list, I've had a video call with over the past couple years), but it could also be useful for things like extracting lists of attendees for events organized on Google Calendar. A more sophisticated version of this could also do things like note the most recent event with each guest, but I'll leave that to others to implement for now.\n",
    "\n",
    "Feel free to adapt and reuse this code as you see fit, but I'd strongly recommend not directly uploading the results into a CRM. - I'll be hand-screening these first, and I suggest you do the same. Otherwise, not only is it a spammy thing to do, but you're likely to get poor deliverability if a lot of the emails bounce.\n",
    "\n",
    "Good luck, and hope it's helpful."
   ]
  },
  {
   "cell_type": "markdown",
   "id": "fe93346a",
   "metadata": {},
   "source": [
    "## Setting parameters & loading dependencies"
   ]
  },
  {
   "cell_type": "markdown",
   "id": "2b97a488",
   "metadata": {},
   "source": [
    "#### Parameters"
   ]
  },
  {
   "cell_type": "code",
   "execution_count": 1,
   "id": "ba51c376",
   "metadata": {},
   "outputs": [],
   "source": [
    "working_directory = 'c:/working/' #where the calendar file is located and export will be saved\n",
    "calendar_file = 'gmail_cal.ics' #the name of the calendar file (should be .ics)\n",
    "export_name = 'gcal_export.csv' #name of the csv file to output"
   ]
  },
  {
   "cell_type": "markdown",
   "id": "135b13b6",
   "metadata": {},
   "source": [
    "#### Dependencies"
   ]
  },
  {
   "cell_type": "code",
   "execution_count": 2,
   "id": "5098e956",
   "metadata": {},
   "outputs": [],
   "source": [
    "import pandas as pd\n",
    "\n",
    "#changing pandas display settings\n",
    "pd.options.display.max_rows = 1000\n",
    "pd.options.display.max_colwidth = 1000\n",
    "\n",
    "import os\n",
    "#changing working directory\n",
    "os.chdir(working_directory)\n",
    "\n",
    "import re"
   ]
  },
  {
   "cell_type": "markdown",
   "id": "53dbd573",
   "metadata": {},
   "source": [
    "## Removing extra line breaks from the calendar file\n",
    "ICS files have fixed length lines, so longer fields are split across multiple lines. Continued lines can be identified with an added blank space at the beginning, regardless of whether there's a space in the actual text (so you'll get spaces in the middle of email addresses, for example). This code loops over the lines in the import file and combines those broken fields into single lines, and writes the results to a new file."
   ]
  },
  {
   "cell_type": "code",
   "execution_count": 3,
   "id": "fe33c32c",
   "metadata": {},
   "outputs": [],
   "source": [
    "with open(calendar_file, 'r', encoding='utf8') as f1, open('temp.txt', 'w', encoding='utf8') as f2:\n",
    "    # Initialize the current line\n",
    "    current_line = ''\n",
    "\n",
    "    # Loop through the lines of the input file\n",
    "    for line in f1:\n",
    "        # If the line starts with a blank space, append it to the current line\n",
    "        if line.startswith(' '):\n",
    "            current_line += line.strip()\n",
    "        else:\n",
    "            # Write the current line to the output file\n",
    "            if current_line:\n",
    "                f2.write(current_line + '\\n')\n",
    "            \n",
    "            # Reset the current line\n",
    "            current_line = line.strip()\n",
    "\n",
    "    # Write the final current line to the output file\n",
    "    if current_line:\n",
    "        f2.write(current_line + '\\n')"
   ]
  },
  {
   "cell_type": "markdown",
   "id": "ab4520f9",
   "metadata": {},
   "source": [
    "## Extracting email addresses\n",
    "This loops over the lines in the prepped file, and when a line is for an attendee, it pulls out the email address and adds it to a set."
   ]
  },
  {
   "cell_type": "code",
   "execution_count": 4,
   "id": "802aa2da",
   "metadata": {},
   "outputs": [],
   "source": [
    "# Create an empty set to store the emails\n",
    "emails = set()\n",
    "\n",
    "# Defining the regular expression pattern for an email address\n",
    "pattern = r\"^[a-zA-Z0-9_.+-]+@[a-zA-Z0-9-]+\\.[a-zA-Z0-9-.]+$\"\n",
    "\n",
    "# Open the input file\n",
    "with open('temp.txt', 'r', encoding='utf8') as f:\n",
    "    # Loop through the lines of the input file\n",
    "    for line in f:\n",
    "        # Check if the line starts with 'ATTENDEE'\n",
    "        if line.startswith('ATTENDEE'):\n",
    "            # Find the start and end indices of the email\n",
    "            start = line.find(';CN=') + 4\n",
    "            end = line.find(';', start)\n",
    "            # Extract the contact's information from the line\n",
    "            contact = line[start:end]\n",
    "            # Checks if the contact is an email address, and if so, adds it to the set\n",
    "            if re.match(pattern, contact):\n",
    "                emails.add(contact)"
   ]
  },
  {
   "cell_type": "markdown",
   "id": "9a1c5cd5",
   "metadata": {},
   "source": [
    "## Creating a dataframe of emails, extracting names and domains, and saving\n",
    "This attempts to parse emails which have \"first.last@domain\" structures to get first and last names, but leaves others alone and just gives the username."
   ]
  },
  {
   "cell_type": "code",
   "execution_count": 5,
   "id": "a14291fb",
   "metadata": {},
   "outputs": [
    {
     "name": "stdout",
     "output_type": "stream",
     "text": [
      "612\n"
     ]
    }
   ],
   "source": [
    "contacts = pd.DataFrame()\n",
    "contacts['email'] = sorted(list(emails))\n",
    "print(len(contacts))"
   ]
  },
  {
   "cell_type": "code",
   "execution_count": 6,
   "id": "0d20615f",
   "metadata": {},
   "outputs": [],
   "source": [
    "contacts['domain'] = contacts.email.map(lambda x: x.split('@')[1])\n",
    "contacts['username'] = contacts.email.map(lambda x: x.split('@')[0])"
   ]
  },
  {
   "cell_type": "code",
   "execution_count": 7,
   "id": "37e79a34",
   "metadata": {},
   "outputs": [],
   "source": [
    "#functions to extract first and last names from first.last@domain format addresses, and otherwise return empty strings, then use those to create full name fields\n",
    "\n",
    "def getfirst(name):\n",
    "    if '.' in name[1:-1] and name.count('.') == 1:\n",
    "        first = name.split('.')[0].capitalize()\n",
    "    else:\n",
    "        first = ''\n",
    "    return first\n",
    "\n",
    "def getlast(name):\n",
    "    if '.' in name[1:-1] and name.count('.') == 1:\n",
    "        last = name.split('.')[1].capitalize()\n",
    "    else:\n",
    "        last = ''\n",
    "    return last\n",
    "\n",
    "contacts['firstname'] = contacts.username.map(getfirst)\n",
    "contacts['lastname'] = contacts.username.map(getlast)\n",
    "contacts['fullname'] = contacts.firstname.str.cat(contacts.lastname, sep=' ').str.strip()"
   ]
  },
  {
   "cell_type": "code",
   "execution_count": 8,
   "id": "a94f5cb8",
   "metadata": {},
   "outputs": [],
   "source": [
    "contacts.to_csv(export_name, index=False)"
   ]
  }
 ],
 "metadata": {
  "kernelspec": {
   "display_name": "Python 3 (ipykernel)",
   "language": "python",
   "name": "python3"
  },
  "language_info": {
   "codemirror_mode": {
    "name": "ipython",
    "version": 3
   },
   "file_extension": ".py",
   "mimetype": "text/x-python",
   "name": "python",
   "nbconvert_exporter": "python",
   "pygments_lexer": "ipython3",
   "version": "3.9.7"
  }
 },
 "nbformat": 4,
 "nbformat_minor": 5
}
